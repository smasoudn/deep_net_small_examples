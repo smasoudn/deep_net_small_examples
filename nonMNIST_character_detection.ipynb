{
 "cells": [
  {
   "cell_type": "markdown",
   "metadata": {},
   "source": [
    "# notMNIST Character Recognition using Tensorflow\n",
    "\n",
    "In this small project, we develope a simple neural network to detect characters in [nonMNIST](http://yaroslavvb.blogspot.ca/2011/09/notmnist-dataset.html) dataset using *Tensorflow*. \n",
    "\n",
    "The original example has been presented by [Udacity](https://www.udacity.com/).\n",
    "\n",
    "**Input:**\n",
    "- A set of nonMNIST character images from letter A to J\n",
    "\n",
    "**Goal:**\n",
    "- Prediction of a sample nonMNIST image"
   ]
  },
  {
   "cell_type": "code",
   "execution_count": 1,
   "metadata": {
    "collapsed": false
   },
   "outputs": [
    {
     "name": "stdout",
     "output_type": "stream",
     "text": [
      "All modules imported.\n"
     ]
    }
   ],
   "source": [
    "# Import required modules\n",
    "import hashlib\n",
    "import os\n",
    "import pickle\n",
    "from urllib.request import urlretrieve\n",
    "\n",
    "import numpy as np\n",
    "from PIL import Image\n",
    "from sklearn.model_selection import train_test_split\n",
    "from sklearn.preprocessing import LabelBinarizer\n",
    "from sklearn.utils import resample\n",
    "from tqdm import tqdm\n",
    "from zipfile import ZipFile\n",
    "\n",
    "print('All modules imported.')"
   ]
  },
  {
   "cell_type": "markdown",
   "metadata": {},
   "source": [
    "## Download and uncompressed the nonMNIST dataset"
   ]
  },
  {
   "cell_type": "code",
   "execution_count": 2,
   "metadata": {
    "collapsed": false
   },
   "outputs": [
    {
     "name": "stdout",
     "output_type": "stream",
     "text": [
      "All files downloaded.\n"
     ]
    }
   ],
   "source": [
    "def download(url, file):\n",
    "    \"\"\"\n",
    "    Download file from <url>\n",
    "    :param url: URL to file\n",
    "    :param file: Local file path\n",
    "    \"\"\"\n",
    "    if not os.path.isfile(file):\n",
    "        print('Downloading ' + file + '...')\n",
    "        urlretrieve(url, file)\n",
    "        print('Download Finished')\n",
    "\n",
    "# Download the training and test dataset.\n",
    "download('https://s3.amazonaws.com/udacity-sdc/notMNIST_train.zip', './data/notMNIST_train.zip')\n",
    "download('https://s3.amazonaws.com/udacity-sdc/notMNIST_test.zip', './data/notMNIST_test.zip')\n",
    "\n",
    "# Make sure the files aren't corrupted\n",
    "assert hashlib.md5(open('./data/notMNIST_train.zip', 'rb').read()).hexdigest() == 'c8673b3f28f489e9cdf3a3d74e2ac8fa',\\\n",
    "        'notMNIST_train.zip file is corrupted.  Remove the file and try again.'\n",
    "assert hashlib.md5(open('./data/notMNIST_test.zip', 'rb').read()).hexdigest() == '5d3c7e653e63471c88df796156a9dfa9',\\\n",
    "        'notMNIST_test.zip file is corrupted.  Remove the file and try again.'\n",
    "\n",
    "# Wait until you see that all files have been downloaded.\n",
    "print('All files downloaded.')"
   ]
  },
  {
   "cell_type": "code",
   "execution_count": 3,
   "metadata": {
    "collapsed": false
   },
   "outputs": [
    {
     "name": "stderr",
     "output_type": "stream",
     "text": [
      "100%|██████████| 210001/210001 [00:28<00:00, 7455.90files/s]\n",
      "100%|██████████| 10001/10001 [00:01<00:00, 7821.36files/s]\n"
     ]
    },
    {
     "name": "stdout",
     "output_type": "stream",
     "text": [
      "All features and labels uncompressed.\n"
     ]
    }
   ],
   "source": [
    "def uncompress_features_labels(file):\n",
    "    \"\"\"\n",
    "    Uncompress features and labels from a zip file\n",
    "    :param file: The zip file to extract the data from\n",
    "    \"\"\"\n",
    "    features = []\n",
    "    labels = []\n",
    "\n",
    "    with ZipFile(file) as zipf:\n",
    "        # Progress Bar\n",
    "        filenames_pbar = tqdm(zipf.namelist(), unit='files')\n",
    "        \n",
    "        # Get features and labels from all files\n",
    "        for filename in filenames_pbar:\n",
    "            # Check if the file is a directory\n",
    "            if not filename.endswith('/'):\n",
    "                with zipf.open(filename) as image_file:\n",
    "                    image = Image.open(image_file)\n",
    "                    image.load()\n",
    "                    # Load image data as 1 dimensional array\n",
    "                    # We're using float32 to save on memory space\n",
    "                    feature = np.array(image, dtype=np.float32).flatten()\n",
    "\n",
    "                # Get the the letter from the filename.  This is the letter of the image.\n",
    "                label = os.path.split(filename)[1][0]\n",
    "\n",
    "                features.append(feature)\n",
    "                labels.append(label)\n",
    "    return np.array(features), np.array(labels)\n",
    "\n",
    "# Get the features and labels from the zip files\n",
    "train_features, train_labels = uncompress_features_labels('./data/notMNIST_train.zip')\n",
    "test_features, test_labels = uncompress_features_labels('./data/notMNIST_test.zip')\n",
    "\n",
    "# Limit the amount of data to work with a docker container\n",
    "docker_size_limit = 150000\n",
    "train_features, train_labels = resample(train_features, train_labels, n_samples=docker_size_limit)\n",
    "\n",
    "# Set flags for feature engineering.  This will prevent you from skipping an important step.\n",
    "is_features_normal = False\n",
    "is_labels_encod = False\n",
    "\n",
    "# Wait until you see that all features and labels have been uncompressed.\n",
    "print('All features and labels uncompressed.')"
   ]
  },
  {
   "cell_type": "markdown",
   "metadata": {},
   "source": [
    "## Data preperation\n",
    "### Normalize image values\n",
    "For better convergence, we need to normalize images to be near zero (i.e. $\\mu = 0$ and $\\sigma = 1$). In face we normalize the values to be betweek 0.1 and 0.9."
   ]
  },
  {
   "cell_type": "code",
   "execution_count": 4,
   "metadata": {
    "collapsed": false
   },
   "outputs": [
    {
     "name": "stdout",
     "output_type": "stream",
     "text": [
      "Data normalized\n"
     ]
    }
   ],
   "source": [
    "def normalize_grayscale(image_data):\n",
    "    \"\"\"\n",
    "    Normalize the image data with Min-Max scaling to a range of [0.1, 0.9]\n",
    "    :param image_data: The image data to be normalized\n",
    "    :return: Normalized image data\n",
    "    \"\"\"\n",
    "    return 0.1 + ((image_data - 0) / (255 - 0) * 0.8) \n",
    "\n",
    "\n",
    "if not is_features_normal:\n",
    "    train_features = normalize_grayscale(train_features)\n",
    "    test_features = normalize_grayscale(test_features)\n",
    "    is_features_normal = True\n",
    "    print(\"Data normalized\")\n"
   ]
  },
  {
   "cell_type": "markdown",
   "metadata": {},
   "source": [
    "### Label encoding"
   ]
  },
  {
   "cell_type": "code",
   "execution_count": 5,
   "metadata": {
    "collapsed": false
   },
   "outputs": [
    {
     "name": "stdout",
     "output_type": "stream",
     "text": [
      "Labels One-Hot Encoded\n"
     ]
    }
   ],
   "source": [
    "if not is_labels_encod:\n",
    "    # Turn labels into numbers and apply One-Hot Encoding\n",
    "    encoder = LabelBinarizer()\n",
    "    encoder.fit(train_labels)\n",
    "    train_labels = encoder.transform(train_labels)\n",
    "    test_labels = encoder.transform(test_labels)\n",
    "\n",
    "    # Change to float32, so it can be multiplied against the features in TensorFlow, which are float32\n",
    "    train_labels = train_labels.astype(np.float32)\n",
    "    test_labels = test_labels.astype(np.float32)\n",
    "    is_labels_encod = True\n",
    "\n",
    "print('Labels One-Hot Encoded')"
   ]
  },
  {
   "cell_type": "markdown",
   "metadata": {},
   "source": [
    "### Splitting data into train and test sets"
   ]
  },
  {
   "cell_type": "code",
   "execution_count": 6,
   "metadata": {
    "collapsed": false
   },
   "outputs": [
    {
     "name": "stdout",
     "output_type": "stream",
     "text": [
      "Training features and labels randomized and split.\n"
     ]
    }
   ],
   "source": [
    "# Get randomized datasets for training and validation\n",
    "train_features, valid_features, train_labels, valid_labels = train_test_split(\n",
    "    train_features,\n",
    "    train_labels,\n",
    "    test_size=0.05,\n",
    "    random_state=832289)\n",
    "\n",
    "print('Training features and labels randomized and split.')"
   ]
  },
  {
   "cell_type": "code",
   "execution_count": 7,
   "metadata": {
    "collapsed": false
   },
   "outputs": [
    {
     "name": "stdout",
     "output_type": "stream",
     "text": [
      "Saving data to pickle file...\n",
      "Data cached in pickle file.\n"
     ]
    }
   ],
   "source": [
    "# Save the data for easy access\n",
    "pickle_file = './data/notMNIST.pickle'\n",
    "if not os.path.isfile(pickle_file):\n",
    "    print('Saving data to pickle file...')\n",
    "    try:\n",
    "        with open('./data/notMNIST.pickle', 'wb') as pfile:\n",
    "            pickle.dump(\n",
    "                {\n",
    "                    'train_dataset': train_features,\n",
    "                    'train_labels': train_labels,\n",
    "                    'valid_dataset': valid_features,\n",
    "                    'valid_labels': valid_labels,\n",
    "                    'test_dataset': test_features,\n",
    "                    'test_labels': test_labels,\n",
    "                },\n",
    "                pfile, pickle.HIGHEST_PROTOCOL)\n",
    "    except Exception as e:\n",
    "        print('Unable to save data to', pickle_file, ':', e)\n",
    "        raise\n",
    "\n",
    "print('Data cached in pickle file.')"
   ]
  },
  {
   "cell_type": "markdown",
   "metadata": {},
   "source": [
    "### Checkpoint\n",
    "Let's load the all data we created before."
   ]
  },
  {
   "cell_type": "code",
   "execution_count": 8,
   "metadata": {
    "collapsed": false
   },
   "outputs": [
    {
     "name": "stdout",
     "output_type": "stream",
     "text": [
      "Data and modules loaded.\n"
     ]
    }
   ],
   "source": [
    "%matplotlib inline\n",
    "\n",
    "# Load the modules\n",
    "import pickle\n",
    "import math\n",
    "\n",
    "import numpy as np\n",
    "import tensorflow as tf\n",
    "from tqdm import tqdm\n",
    "import matplotlib.pyplot as plt\n",
    "\n",
    "# Reload the data\n",
    "pickle_file = './data/notMNIST.pickle'\n",
    "with open(pickle_file, 'rb') as f:\n",
    "    pickle_data = pickle.load(f)\n",
    "    train_features = pickle_data['train_dataset']\n",
    "    train_labels = pickle_data['train_labels']\n",
    "    valid_features = pickle_data['valid_dataset']\n",
    "    valid_labels = pickle_data['valid_labels']\n",
    "    test_features = pickle_data['test_dataset']\n",
    "    test_labels = pickle_data['test_labels']\n",
    "    del pickle_data  # Free up memory\n",
    "\n",
    "print('Data and modules loaded.')"
   ]
  },
  {
   "cell_type": "markdown",
   "metadata": {},
   "source": [
    "## Build the model"
   ]
  },
  {
   "cell_type": "code",
   "execution_count": 9,
   "metadata": {
    "collapsed": false
   },
   "outputs": [
    {
     "name": "stdout",
     "output_type": "stream",
     "text": [
      "input dim:  784\n"
     ]
    }
   ],
   "source": [
    "input_dim = train_features.shape[1]\n",
    "n_hidden_layer = 10\n",
    "n_classes = 10\n",
    "\n",
    "print(\"input dim: \", input_dim)\n",
    "\n",
    "\n",
    "features = tf.placeholder(tf.float32, shape=(None, input_dim))\n",
    "            \n",
    "labels = tf.placeholder(tf.float32, shape=(None,  n_classes))\n",
    "            \n",
    "weights = {'hidden_layer_1': tf.Variable(tf.truncated_normal((input_dim, n_hidden_layer))),\n",
    "           'out': tf.Variable(tf.Variable(tf.truncated_normal((n_hidden_layer, n_classes))))}\n",
    "\n",
    "\n",
    "biases = {\n",
    "    'hidden_layer_1': tf.Variable(tf.zeros(n_hidden_layer)),\n",
    "    'out': tf.Variable(tf.zeros(n_classes))}\n",
    "\n",
    "\n",
    "hidden_layer_1 = tf.add(tf.matmul(features, weights['hidden_layer_1']), biases['hidden_layer_1'])\n",
    "hidden_layer_1 = tf.nn.relu(hidden_layer_1)\n",
    "\n",
    "logits = tf.add(tf.matmul(hidden_layer_1, weights['out']), biases['out'])\n",
    "\n",
    "  \n",
    "# Cross entropy\n",
    "cross_entropy = tf.nn.softmax_cross_entropy_with_logits(logits=logits, labels=labels)\n",
    "\n",
    "# Training loss\n",
    "loss = tf.reduce_mean(cross_entropy)\n",
    "\n",
    "# Create an operation that initializes all variables\n",
    "init = tf.global_variables_initializer()\n"
   ]
  },
  {
   "cell_type": "code",
   "execution_count": 10,
   "metadata": {
    "collapsed": false
   },
   "outputs": [
    {
     "name": "stdout",
     "output_type": "stream",
     "text": [
      "Accuracy function created.\n"
     ]
    }
   ],
   "source": [
    "# Feed dicts for training, validation, and test losssession\n",
    "train_feed_dict = {features: train_features, labels: train_labels}\n",
    "valid_feed_dict = {features: valid_features, labels: valid_labels}\n",
    "test_feed_dict = {features: test_features, labels: test_labels}\n",
    "\n",
    "    \n",
    "# Determine if the predictions are correct\n",
    "prediction = tf.nn.softmax(logits)\n",
    "is_correct_prediction = tf.equal(tf.argmax(prediction, 1), tf.argmax(labels, 1))\n",
    "# Calculate the accuracy of the predictions\n",
    "accuracy = tf.reduce_mean(tf.cast(is_correct_prediction, tf.float32))\n",
    "\n",
    "print('Accuracy function created.')"
   ]
  },
  {
   "cell_type": "code",
   "execution_count": 11,
   "metadata": {
    "collapsed": false
   },
   "outputs": [
    {
     "name": "stderr",
     "output_type": "stream",
     "text": [
      "Epoch  1/100: 100%|██████████| 1114/1114 [00:02<00:00, 418.70batches/s]\n",
      "Epoch  2/100:   2%|▏         | 25/1114 [00:00<00:04, 249.16batches/s]"
     ]
    },
    {
     "name": "stdout",
     "output_type": "stream",
     "text": [
      "validation accuracy:  0.252667\n"
     ]
    },
    {
     "name": "stderr",
     "output_type": "stream",
     "text": [
      "Epoch  2/100: 100%|██████████| 1114/1114 [00:02<00:00, 439.59batches/s]\n",
      "Epoch  3/100: 100%|██████████| 1114/1114 [00:02<00:00, 424.55batches/s]\n",
      "Epoch  4/100: 100%|██████████| 1114/1114 [00:02<00:00, 435.28batches/s]\n",
      "Epoch  5/100: 100%|██████████| 1114/1114 [00:02<00:00, 428.43batches/s]\n",
      "Epoch  6/100: 100%|██████████| 1114/1114 [00:02<00:00, 418.32batches/s]\n",
      "Epoch  7/100: 100%|██████████| 1114/1114 [00:02<00:00, 433.78batches/s]\n",
      "Epoch  8/100: 100%|██████████| 1114/1114 [00:02<00:00, 446.35batches/s]\n",
      "Epoch  9/100: 100%|██████████| 1114/1114 [00:02<00:00, 450.02batches/s]\n",
      "Epoch 10/100: 100%|██████████| 1114/1114 [00:02<00:00, 436.17batches/s]\n",
      "Epoch 11/100: 100%|██████████| 1114/1114 [00:02<00:00, 447.41batches/s]\n",
      "Epoch 12/100: 100%|██████████| 1114/1114 [00:02<00:00, 441.37batches/s]\n",
      "Epoch 13/100: 100%|██████████| 1114/1114 [00:02<00:00, 450.22batches/s]\n",
      "Epoch 14/100: 100%|██████████| 1114/1114 [00:02<00:00, 438.22batches/s]\n",
      "Epoch 15/100: 100%|██████████| 1114/1114 [00:02<00:00, 429.65batches/s]\n",
      "Epoch 16/100: 100%|██████████| 1114/1114 [00:02<00:00, 430.05batches/s]\n",
      "Epoch 17/100: 100%|██████████| 1114/1114 [00:02<00:00, 400.13batches/s]\n",
      "Epoch 18/100: 100%|██████████| 1114/1114 [00:02<00:00, 412.71batches/s]\n",
      "Epoch 19/100: 100%|██████████| 1114/1114 [00:02<00:00, 431.03batches/s]\n",
      "Epoch 20/100: 100%|██████████| 1114/1114 [00:03<00:00, 298.64batches/s]\n",
      "Epoch 21/100: 100%|██████████| 1114/1114 [00:02<00:00, 453.26batches/s]\n",
      "Epoch 22/100:   3%|▎         | 30/1114 [00:00<00:03, 299.92batches/s]"
     ]
    },
    {
     "name": "stdout",
     "output_type": "stream",
     "text": [
      "validation accuracy:  0.578267\n"
     ]
    },
    {
     "name": "stderr",
     "output_type": "stream",
     "text": [
      "Epoch 22/100: 100%|██████████| 1114/1114 [00:02<00:00, 447.54batches/s]\n",
      "Epoch 23/100: 100%|██████████| 1114/1114 [00:02<00:00, 452.07batches/s]\n",
      "Epoch 24/100: 100%|██████████| 1114/1114 [00:02<00:00, 446.82batches/s]\n",
      "Epoch 25/100: 100%|██████████| 1114/1114 [00:03<00:00, 352.63batches/s]\n",
      "Epoch 26/100: 100%|██████████| 1114/1114 [00:02<00:00, 417.76batches/s]\n",
      "Epoch 27/100: 100%|██████████| 1114/1114 [00:02<00:00, 395.53batches/s]\n",
      "Epoch 28/100: 100%|██████████| 1114/1114 [00:02<00:00, 444.09batches/s]\n",
      "Epoch 29/100: 100%|██████████| 1114/1114 [00:02<00:00, 446.61batches/s]\n",
      "Epoch 30/100: 100%|██████████| 1114/1114 [00:02<00:00, 438.55batches/s]\n",
      "Epoch 31/100: 100%|██████████| 1114/1114 [00:02<00:00, 443.12batches/s]\n",
      "Epoch 32/100: 100%|██████████| 1114/1114 [00:02<00:00, 443.69batches/s]\n",
      "Epoch 33/100: 100%|██████████| 1114/1114 [00:02<00:00, 443.78batches/s]\n",
      "Epoch 34/100: 100%|██████████| 1114/1114 [00:02<00:00, 442.79batches/s]\n",
      "Epoch 35/100: 100%|██████████| 1114/1114 [00:02<00:00, 440.89batches/s]\n",
      "Epoch 36/100: 100%|██████████| 1114/1114 [00:02<00:00, 438.22batches/s]\n",
      "Epoch 37/100: 100%|██████████| 1114/1114 [00:02<00:00, 440.43batches/s]\n",
      "Epoch 38/100: 100%|██████████| 1114/1114 [00:02<00:00, 442.03batches/s]\n",
      "Epoch 39/100: 100%|██████████| 1114/1114 [00:02<00:00, 442.22batches/s]\n",
      "Epoch 40/100: 100%|██████████| 1114/1114 [00:02<00:00, 442.08batches/s]\n",
      "Epoch 41/100: 100%|██████████| 1114/1114 [00:02<00:00, 422.32batches/s]\n",
      "Epoch 42/100:   3%|▎         | 37/1114 [00:00<00:02, 368.17batches/s]"
     ]
    },
    {
     "name": "stdout",
     "output_type": "stream",
     "text": [
      "validation accuracy:  0.6436\n"
     ]
    },
    {
     "name": "stderr",
     "output_type": "stream",
     "text": [
      "Epoch 42/100: 100%|██████████| 1114/1114 [00:02<00:00, 427.93batches/s]\n",
      "Epoch 43/100: 100%|██████████| 1114/1114 [00:02<00:00, 440.68batches/s]\n",
      "Epoch 44/100: 100%|██████████| 1114/1114 [00:02<00:00, 442.84batches/s]\n",
      "Epoch 45/100: 100%|██████████| 1114/1114 [00:02<00:00, 435.20batches/s]\n",
      "Epoch 46/100: 100%|██████████| 1114/1114 [00:02<00:00, 448.98batches/s]\n",
      "Epoch 47/100: 100%|██████████| 1114/1114 [00:02<00:00, 441.08batches/s]\n",
      "Epoch 48/100: 100%|██████████| 1114/1114 [00:02<00:00, 446.45batches/s]\n",
      "Epoch 49/100: 100%|██████████| 1114/1114 [00:02<00:00, 442.12batches/s]\n",
      "Epoch 50/100: 100%|██████████| 1114/1114 [00:02<00:00, 442.94batches/s]\n",
      "Epoch 51/100: 100%|██████████| 1114/1114 [00:02<00:00, 446.10batches/s]\n",
      "Epoch 52/100: 100%|██████████| 1114/1114 [00:02<00:00, 438.32batches/s]\n",
      "Epoch 53/100: 100%|██████████| 1114/1114 [00:02<00:00, 443.92batches/s]\n",
      "Epoch 54/100: 100%|██████████| 1114/1114 [00:02<00:00, 446.53batches/s]\n",
      "Epoch 55/100: 100%|██████████| 1114/1114 [00:02<00:00, 439.47batches/s]\n",
      "Epoch 56/100: 100%|██████████| 1114/1114 [00:02<00:00, 435.98batches/s]\n",
      "Epoch 57/100: 100%|██████████| 1114/1114 [00:02<00:00, 441.50batches/s]\n",
      "Epoch 58/100: 100%|██████████| 1114/1114 [00:02<00:00, 444.00batches/s]\n",
      "Epoch 59/100: 100%|██████████| 1114/1114 [00:02<00:00, 442.81batches/s]\n",
      "Epoch 60/100: 100%|██████████| 1114/1114 [00:02<00:00, 442.36batches/s]\n",
      "Epoch 61/100: 100%|██████████| 1114/1114 [00:02<00:00, 441.48batches/s]\n",
      "Epoch 62/100:   3%|▎         | 36/1114 [00:00<00:02, 359.43batches/s]"
     ]
    },
    {
     "name": "stdout",
     "output_type": "stream",
     "text": [
      "validation accuracy:  0.669333\n"
     ]
    },
    {
     "name": "stderr",
     "output_type": "stream",
     "text": [
      "Epoch 62/100: 100%|██████████| 1114/1114 [00:02<00:00, 441.41batches/s]\n",
      "Epoch 63/100: 100%|██████████| 1114/1114 [00:02<00:00, 440.75batches/s]\n",
      "Epoch 64/100: 100%|██████████| 1114/1114 [00:02<00:00, 440.43batches/s]\n",
      "Epoch 65/100: 100%|██████████| 1114/1114 [00:02<00:00, 443.84batches/s]\n",
      "Epoch 66/100: 100%|██████████| 1114/1114 [00:02<00:00, 444.88batches/s]\n",
      "Epoch 67/100: 100%|██████████| 1114/1114 [00:02<00:00, 430.97batches/s]\n",
      "Epoch 68/100: 100%|██████████| 1114/1114 [00:02<00:00, 443.45batches/s]\n",
      "Epoch 69/100: 100%|██████████| 1114/1114 [00:02<00:00, 443.86batches/s]\n",
      "Epoch 70/100: 100%|██████████| 1114/1114 [00:02<00:00, 440.07batches/s]\n",
      "Epoch 71/100: 100%|██████████| 1114/1114 [00:02<00:00, 447.04batches/s]\n",
      "Epoch 72/100: 100%|██████████| 1114/1114 [00:02<00:00, 443.75batches/s]\n",
      "Epoch 73/100: 100%|██████████| 1114/1114 [00:02<00:00, 441.91batches/s]\n",
      "Epoch 74/100: 100%|██████████| 1114/1114 [00:02<00:00, 442.05batches/s]\n",
      "Epoch 75/100: 100%|██████████| 1114/1114 [00:02<00:00, 443.58batches/s]\n",
      "Epoch 76/100: 100%|██████████| 1114/1114 [00:02<00:00, 442.60batches/s]\n",
      "Epoch 77/100: 100%|██████████| 1114/1114 [00:02<00:00, 442.99batches/s]\n",
      "Epoch 78/100: 100%|██████████| 1114/1114 [00:02<00:00, 444.25batches/s]\n",
      "Epoch 79/100: 100%|██████████| 1114/1114 [00:02<00:00, 456.14batches/s]\n",
      "Epoch 80/100: 100%|██████████| 1114/1114 [00:02<00:00, 457.10batches/s]\n",
      "Epoch 81/100: 100%|██████████| 1114/1114 [00:02<00:00, 450.04batches/s]\n",
      "Epoch 82/100:   3%|▎         | 34/1114 [00:00<00:03, 338.22batches/s]"
     ]
    },
    {
     "name": "stdout",
     "output_type": "stream",
     "text": [
      "validation accuracy:  0.726133\n"
     ]
    },
    {
     "name": "stderr",
     "output_type": "stream",
     "text": [
      "Epoch 82/100: 100%|██████████| 1114/1114 [00:02<00:00, 455.73batches/s]\n",
      "Epoch 83/100: 100%|██████████| 1114/1114 [00:02<00:00, 455.64batches/s]\n",
      "Epoch 84/100: 100%|██████████| 1114/1114 [00:02<00:00, 453.31batches/s]\n",
      "Epoch 85/100: 100%|██████████| 1114/1114 [00:02<00:00, 455.83batches/s]\n",
      "Epoch 86/100: 100%|██████████| 1114/1114 [00:02<00:00, 459.78batches/s]\n",
      "Epoch 87/100: 100%|██████████| 1114/1114 [00:02<00:00, 453.22batches/s]\n",
      "Epoch 88/100: 100%|██████████| 1114/1114 [00:02<00:00, 456.54batches/s]\n",
      "Epoch 89/100: 100%|██████████| 1114/1114 [00:02<00:00, 455.93batches/s]\n",
      "Epoch 90/100: 100%|██████████| 1114/1114 [00:02<00:00, 455.82batches/s]\n",
      "Epoch 91/100: 100%|██████████| 1114/1114 [00:02<00:00, 458.61batches/s]\n",
      "Epoch 92/100: 100%|██████████| 1114/1114 [00:02<00:00, 452.49batches/s]\n",
      "Epoch 93/100: 100%|██████████| 1114/1114 [00:02<00:00, 453.45batches/s]\n",
      "Epoch 94/100: 100%|██████████| 1114/1114 [00:02<00:00, 451.42batches/s]\n",
      "Epoch 95/100: 100%|██████████| 1114/1114 [00:02<00:00, 447.86batches/s]\n",
      "Epoch 96/100: 100%|██████████| 1114/1114 [00:02<00:00, 458.40batches/s]\n",
      "Epoch 97/100: 100%|██████████| 1114/1114 [00:02<00:00, 454.27batches/s]\n",
      "Epoch 98/100: 100%|██████████| 1114/1114 [00:02<00:00, 462.25batches/s]\n",
      "Epoch 99/100: 100%|██████████| 1114/1114 [00:02<00:00, 459.45batches/s]\n",
      "Epoch 100/100: 100%|██████████| 1114/1114 [00:02<00:00, 456.13batches/s]\n"
     ]
    },
    {
     "data": {
      "image/png": "[encoded data removed]",
      "text/plain": [
       "<matplotlib.figure.Figure at 0x7feb0fa22fd0>"
      ]
     },
     "metadata": {},
     "output_type": "display_data"
    },
    {
     "name": "stdout",
     "output_type": "stream",
     "text": [
      "Validation accuracy at 0.7401333451271057\n"
     ]
    }
   ],
   "source": [
    "# Change if you have memory restrictions\n",
    "batch_size = 128\n",
    "\n",
    "epochs = 100\n",
    "learning_rate = 0.01\n",
    "\n",
    "\n",
    "### DON'T MODIFY ANYTHING BELOW ###\n",
    "# Gradient Descent\n",
    "optimizer = tf.train.GradientDescentOptimizer(learning_rate).minimize(loss)    \n",
    "\n",
    "# The accuracy measured against the validation set\n",
    "validation_accuracy = 0.0\n",
    "\n",
    "# Measurements use for graphing loss and accuracy\n",
    "log_batch_step = 50\n",
    "batches = []\n",
    "loss_batch = []\n",
    "train_acc_batch = []\n",
    "valid_acc_batch = []\n",
    "\n",
    "with tf.Session() as session:\n",
    "    session.run(init)\n",
    "    batch_count = int(math.ceil(len(train_features)/batch_size))\n",
    "\n",
    "    for epoch_i in range(epochs):\n",
    "        \n",
    "        # Progress bar\n",
    "        batches_pbar = tqdm(range(batch_count), desc='Epoch {:>2}/{}'.format(epoch_i+1, epochs), unit='batches')\n",
    "        \n",
    "        # The training cycle\n",
    "        for batch_i in batches_pbar:\n",
    "            # Get a batch of training features and labels\n",
    "            batch_start = batch_i*batch_size\n",
    "            batch_features = train_features[batch_start:batch_start + batch_size]\n",
    "            batch_labels = train_labels[batch_start:batch_start + batch_size]\n",
    "\n",
    "            # Run optimizer and get loss\n",
    "            _, l = session.run(\n",
    "                [optimizer, loss],\n",
    "                feed_dict={features: batch_features, labels: batch_labels})\n",
    "\n",
    "            # Log every 50 batches\n",
    "            if not batch_i % log_batch_step:\n",
    "                # Calculate Training and Validation accuracy\n",
    "                training_accuracy = session.run(accuracy, feed_dict=train_feed_dict)\n",
    "                validation_accuracy = session.run(accuracy, feed_dict=valid_feed_dict)\n",
    "\n",
    "                # Log batches\n",
    "                previous_batch = batches[-1] if batches else 0\n",
    "                batches.append(log_batch_step + previous_batch)\n",
    "                loss_batch.append(l)\n",
    "                train_acc_batch.append(training_accuracy)\n",
    "                valid_acc_batch.append(validation_accuracy)\n",
    "\n",
    "        # Check accuracy against Validation data\n",
    "        validation_accuracy = session.run(accuracy, feed_dict=valid_feed_dict)\n",
    "        if not epoch_i % 20:\n",
    "            print(\"validation accuracy: \", validation_accuracy)\n",
    "\n",
    "loss_plot = plt.subplot(211)\n",
    "loss_plot.set_title('Loss')\n",
    "loss_plot.plot(batches, loss_batch, 'g')\n",
    "loss_plot.set_xlim([batches[0], batches[-1]])\n",
    "acc_plot = plt.subplot(212)\n",
    "acc_plot.set_title('Accuracy')\n",
    "acc_plot.plot(batches, train_acc_batch, 'r', label='Training Accuracy')\n",
    "acc_plot.plot(batches, valid_acc_batch, 'b', label='Validation Accuracy')\n",
    "acc_plot.set_ylim([0, 1.0])\n",
    "acc_plot.set_xlim([batches[0], batches[-1]])\n",
    "acc_plot.legend(loc=4)\n",
    "plt.tight_layout()\n",
    "plt.show()\n",
    "\n",
    "print('Validation accuracy at {}'.format(validation_accuracy))\n",
    "\n"
   ]
  },
  {
   "cell_type": "markdown",
   "metadata": {
    "collapsed": true
   },
   "source": [
    "## Test on the test set"
   ]
  },
  {
   "cell_type": "code",
   "execution_count": 12,
   "metadata": {
    "collapsed": false
   },
   "outputs": [
    {
     "name": "stderr",
     "output_type": "stream",
     "text": [
      "Epoch  1/100: 100%|██████████| 1114/1114 [00:00<00:00, 1239.85batches/s]\n",
      "Epoch  2/100: 100%|██████████| 1114/1114 [00:00<00:00, 1269.23batches/s]\n",
      "Epoch  3/100: 100%|██████████| 1114/1114 [00:00<00:00, 1261.68batches/s]\n",
      "Epoch  4/100: 100%|██████████| 1114/1114 [00:00<00:00, 1214.92batches/s]\n",
      "Epoch  5/100: 100%|██████████| 1114/1114 [00:00<00:00, 1262.16batches/s]\n",
      "Epoch  6/100: 100%|██████████| 1114/1114 [00:00<00:00, 1293.26batches/s]\n",
      "Epoch  7/100: 100%|██████████| 1114/1114 [00:00<00:00, 1262.25batches/s]\n",
      "Epoch  8/100: 100%|██████████| 1114/1114 [00:00<00:00, 1269.32batches/s]\n",
      "Epoch  9/100: 100%|██████████| 1114/1114 [00:00<00:00, 1283.26batches/s]\n",
      "Epoch 10/100: 100%|██████████| 1114/1114 [00:00<00:00, 1238.49batches/s]\n",
      "Epoch 11/100: 100%|██████████| 1114/1114 [00:00<00:00, 1261.32batches/s]\n",
      "Epoch 12/100: 100%|██████████| 1114/1114 [00:00<00:00, 1294.10batches/s]\n",
      "Epoch 13/100: 100%|██████████| 1114/1114 [00:00<00:00, 1274.69batches/s]\n",
      "Epoch 14/100: 100%|██████████| 1114/1114 [00:00<00:00, 1266.06batches/s]\n",
      "Epoch 15/100: 100%|██████████| 1114/1114 [00:00<00:00, 1258.48batches/s]\n",
      "Epoch 16/100: 100%|██████████| 1114/1114 [00:00<00:00, 1277.52batches/s]\n",
      "Epoch 17/100: 100%|██████████| 1114/1114 [00:00<00:00, 1259.71batches/s]\n",
      "Epoch 18/100: 100%|██████████| 1114/1114 [00:00<00:00, 1252.59batches/s]\n",
      "Epoch 19/100: 100%|██████████| 1114/1114 [00:00<00:00, 1273.83batches/s]\n",
      "Epoch 20/100: 100%|██████████| 1114/1114 [00:00<00:00, 1272.32batches/s]\n",
      "Epoch 21/100: 100%|██████████| 1114/1114 [00:00<00:00, 1262.61batches/s]\n",
      "Epoch 22/100: 100%|██████████| 1114/1114 [00:00<00:00, 1235.55batches/s]\n",
      "Epoch 23/100: 100%|██████████| 1114/1114 [00:00<00:00, 1254.25batches/s]\n",
      "Epoch 24/100: 100%|██████████| 1114/1114 [00:00<00:00, 1186.39batches/s]\n",
      "Epoch 25/100: 100%|██████████| 1114/1114 [00:00<00:00, 1278.44batches/s]\n",
      "Epoch 26/100: 100%|██████████| 1114/1114 [00:00<00:00, 1257.04batches/s]\n",
      "Epoch 27/100: 100%|██████████| 1114/1114 [00:00<00:00, 1261.38batches/s]\n",
      "Epoch 28/100: 100%|██████████| 1114/1114 [00:00<00:00, 1258.96batches/s]\n",
      "Epoch 29/100: 100%|██████████| 1114/1114 [00:00<00:00, 1260.05batches/s]\n",
      "Epoch 30/100: 100%|██████████| 1114/1114 [00:00<00:00, 1266.01batches/s]\n",
      "Epoch 31/100: 100%|██████████| 1114/1114 [00:00<00:00, 1258.25batches/s]\n",
      "Epoch 32/100: 100%|██████████| 1114/1114 [00:00<00:00, 1239.62batches/s]\n",
      "Epoch 33/100: 100%|██████████| 1114/1114 [00:00<00:00, 1255.38batches/s]\n",
      "Epoch 34/100: 100%|██████████| 1114/1114 [00:00<00:00, 1259.03batches/s]\n",
      "Epoch 35/100: 100%|██████████| 1114/1114 [00:00<00:00, 1242.08batches/s]\n",
      "Epoch 36/100: 100%|██████████| 1114/1114 [00:00<00:00, 1256.92batches/s]\n",
      "Epoch 37/100: 100%|██████████| 1114/1114 [00:00<00:00, 1255.77batches/s]\n",
      "Epoch 38/100: 100%|██████████| 1114/1114 [00:00<00:00, 1229.89batches/s]\n",
      "Epoch 39/100: 100%|██████████| 1114/1114 [00:00<00:00, 1258.88batches/s]\n",
      "Epoch 40/100: 100%|██████████| 1114/1114 [00:00<00:00, 1257.37batches/s]\n",
      "Epoch 41/100: 100%|██████████| 1114/1114 [00:00<00:00, 1236.49batches/s]\n",
      "Epoch 42/100: 100%|██████████| 1114/1114 [00:00<00:00, 1267.99batches/s]\n",
      "Epoch 43/100: 100%|██████████| 1114/1114 [00:00<00:00, 1262.90batches/s]\n",
      "Epoch 44/100: 100%|██████████| 1114/1114 [00:00<00:00, 1259.27batches/s]\n",
      "Epoch 45/100: 100%|██████████| 1114/1114 [00:00<00:00, 1262.48batches/s]\n",
      "Epoch 46/100: 100%|██████████| 1114/1114 [00:00<00:00, 1259.10batches/s]\n",
      "Epoch 47/100: 100%|██████████| 1114/1114 [00:00<00:00, 1256.86batches/s]\n",
      "Epoch 48/100: 100%|██████████| 1114/1114 [00:00<00:00, 1254.89batches/s]\n",
      "Epoch 49/100: 100%|██████████| 1114/1114 [00:00<00:00, 1229.18batches/s]\n",
      "Epoch 50/100: 100%|██████████| 1114/1114 [00:00<00:00, 1249.74batches/s]\n",
      "Epoch 51/100: 100%|██████████| 1114/1114 [00:00<00:00, 1241.29batches/s]\n",
      "Epoch 52/100: 100%|██████████| 1114/1114 [00:00<00:00, 1255.60batches/s]\n",
      "Epoch 53/100: 100%|██████████| 1114/1114 [00:00<00:00, 1240.95batches/s]\n",
      "Epoch 54/100: 100%|██████████| 1114/1114 [00:00<00:00, 1246.21batches/s]\n",
      "Epoch 55/100: 100%|██████████| 1114/1114 [00:01<00:00, 875.12batches/s]\n",
      "Epoch 56/100: 100%|██████████| 1114/1114 [00:01<00:00, 925.98batches/s]\n",
      "Epoch 57/100: 100%|██████████| 1114/1114 [00:01<00:00, 1096.66batches/s]\n",
      "Epoch 58/100: 100%|██████████| 1114/1114 [00:00<00:00, 1121.93batches/s]\n",
      "Epoch 59/100: 100%|██████████| 1114/1114 [00:00<00:00, 1221.97batches/s]\n",
      "Epoch 60/100: 100%|██████████| 1114/1114 [00:00<00:00, 1317.53batches/s]\n",
      "Epoch 61/100: 100%|██████████| 1114/1114 [00:00<00:00, 1368.87batches/s]\n",
      "Epoch 62/100: 100%|██████████| 1114/1114 [00:00<00:00, 1248.22batches/s]\n",
      "Epoch 63/100: 100%|██████████| 1114/1114 [00:00<00:00, 1248.11batches/s]\n",
      "Epoch 64/100: 100%|██████████| 1114/1114 [00:00<00:00, 1248.57batches/s]\n",
      "Epoch 65/100: 100%|██████████| 1114/1114 [00:00<00:00, 1352.68batches/s]\n",
      "Epoch 66/100: 100%|██████████| 1114/1114 [00:00<00:00, 1297.92batches/s]\n",
      "Epoch 67/100: 100%|██████████| 1114/1114 [00:00<00:00, 1206.04batches/s]\n",
      "Epoch 68/100: 100%|██████████| 1114/1114 [00:01<00:00, 933.31batches/s]\n",
      "Epoch 69/100: 100%|██████████| 1114/1114 [00:01<00:00, 1027.35batches/s]\n",
      "Epoch 70/100: 100%|██████████| 1114/1114 [00:01<00:00, 1111.51batches/s]\n",
      "Epoch 71/100: 100%|██████████| 1114/1114 [00:00<00:00, 1122.24batches/s]\n",
      "Epoch 72/100: 100%|██████████| 1114/1114 [00:00<00:00, 1152.93batches/s]\n",
      "Epoch 73/100: 100%|██████████| 1114/1114 [00:01<00:00, 1028.28batches/s]\n",
      "Epoch 74/100: 100%|██████████| 1114/1114 [00:00<00:00, 1148.75batches/s]\n",
      "Epoch 75/100: 100%|██████████| 1114/1114 [00:00<00:00, 1114.53batches/s]\n",
      "Epoch 76/100: 100%|██████████| 1114/1114 [00:00<00:00, 1153.24batches/s]\n",
      "Epoch 77/100: 100%|██████████| 1114/1114 [00:00<00:00, 1264.85batches/s]\n",
      "Epoch 78/100: 100%|██████████| 1114/1114 [00:00<00:00, 1267.05batches/s]\n",
      "Epoch 79/100: 100%|██████████| 1114/1114 [00:00<00:00, 1328.77batches/s]\n",
      "Epoch 80/100: 100%|██████████| 1114/1114 [00:00<00:00, 1314.84batches/s]\n",
      "Epoch 81/100: 100%|██████████| 1114/1114 [00:00<00:00, 1284.16batches/s]\n",
      "Epoch 82/100: 100%|██████████| 1114/1114 [00:00<00:00, 1288.66batches/s]\n",
      "Epoch 83/100: 100%|██████████| 1114/1114 [00:00<00:00, 1271.85batches/s]\n",
      "Epoch 84/100: 100%|██████████| 1114/1114 [00:00<00:00, 1287.47batches/s]\n",
      "Epoch 85/100: 100%|██████████| 1114/1114 [00:00<00:00, 1294.35batches/s]\n",
      "Epoch 86/100: 100%|██████████| 1114/1114 [00:00<00:00, 1282.56batches/s]\n",
      "Epoch 87/100: 100%|██████████| 1114/1114 [00:00<00:00, 1335.23batches/s]\n",
      "Epoch 88/100: 100%|██████████| 1114/1114 [00:00<00:00, 1323.21batches/s]\n",
      "Epoch 89/100: 100%|██████████| 1114/1114 [00:00<00:00, 1171.67batches/s]\n",
      "Epoch 90/100: 100%|██████████| 1114/1114 [00:00<00:00, 1277.50batches/s]\n",
      "Epoch 91/100: 100%|██████████| 1114/1114 [00:00<00:00, 1313.16batches/s]\n",
      "Epoch 92/100: 100%|██████████| 1114/1114 [00:00<00:00, 1302.40batches/s]\n",
      "Epoch 93/100: 100%|██████████| 1114/1114 [00:00<00:00, 1251.05batches/s]\n",
      "Epoch 94/100: 100%|██████████| 1114/1114 [00:00<00:00, 1322.77batches/s]\n",
      "Epoch 95/100: 100%|██████████| 1114/1114 [00:00<00:00, 1338.09batches/s]\n",
      "Epoch 96/100: 100%|██████████| 1114/1114 [00:00<00:00, 1267.09batches/s]\n",
      "Epoch 97/100: 100%|██████████| 1114/1114 [00:00<00:00, 1279.97batches/s]\n",
      "Epoch 98/100: 100%|██████████| 1114/1114 [00:00<00:00, 1272.99batches/s]\n",
      "Epoch 99/100: 100%|██████████| 1114/1114 [00:00<00:00, 1308.04batches/s]\n",
      "Epoch 100/100: 100%|██████████| 1114/1114 [00:00<00:00, 1303.39batches/s]"
     ]
    },
    {
     "name": "stdout",
     "output_type": "stream",
     "text": [
      "Test Accuracy is 0.8195000290870667\n"
     ]
    },
    {
     "name": "stderr",
     "output_type": "stream",
     "text": [
      "\n"
     ]
    }
   ],
   "source": [
    "# The accuracy measured against the test set\n",
    "test_accuracy = 0.0\n",
    "\n",
    "with tf.Session() as session:\n",
    "    \n",
    "    session.run(init)\n",
    "    batch_count = int(math.ceil(len(train_features)/batch_size))\n",
    "\n",
    "    for epoch_i in range(epochs):\n",
    "        \n",
    "        # Progress bar\n",
    "        batches_pbar = tqdm(range(batch_count), desc='Epoch {:>2}/{}'.format(epoch_i+1, epochs), unit='batches')\n",
    "        \n",
    "        # The training cycle\n",
    "        for batch_i in batches_pbar:\n",
    "            # Get a batch of training features and labels\n",
    "            batch_start = batch_i*batch_size\n",
    "            batch_features = train_features[batch_start:batch_start + batch_size]\n",
    "            batch_labels = train_labels[batch_start:batch_start + batch_size]\n",
    "\n",
    "            # Run optimizer\n",
    "            _ = session.run(optimizer, feed_dict={features: batch_features, labels: batch_labels})\n",
    "\n",
    "        # Check accuracy against Test data\n",
    "        test_accuracy = session.run(accuracy, feed_dict=test_feed_dict)\n",
    "\n",
    "print('Test Accuracy is {}'.format(test_accuracy))"
   ]
  },
  {
   "cell_type": "code",
   "execution_count": null,
   "metadata": {
    "collapsed": true
   },
   "outputs": [],
   "source": []
  }
 ],
 "metadata": {
  "anaconda-cloud": {},
  "kernelspec": {
   "display_name": "Python [default]",
   "language": "python",
   "name": "python3"
  },
  "language_info": {
   "codemirror_mode": {
    "name": "ipython",
    "version": 3
   },
   "file_extension": ".py",
   "mimetype": "text/x-python",
   "name": "python",
   "nbconvert_exporter": "python",
   "pygments_lexer": "ipython3",
   "version": "3.5.2"
  }
 },
 "nbformat": 4,
 "nbformat_minor": 2
}
